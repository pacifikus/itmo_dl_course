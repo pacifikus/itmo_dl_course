{
 "cells": [
  {
   "cell_type": "markdown",
   "id": "de3d7a7a",
   "metadata": {},
   "source": [
    "## 1. Загрузка данных "
   ]
  },
  {
   "cell_type": "code",
   "execution_count": 1,
   "id": "6b8be556",
   "metadata": {},
   "outputs": [
    {
     "name": "stderr",
     "output_type": "stream",
     "text": [
      "D:\\setup\\anaconda\\Lib\\site-packages\\pandas\\core\\arrays\\masked.py:60: UserWarning: Pandas requires version '1.3.6' or newer of 'bottleneck' (version '1.3.5' currently installed).\n",
      "  from pandas.core import (\n"
     ]
    }
   ],
   "source": [
    "import pandas as pd\n",
    "import numpy as np\n",
    "from sklearn.model_selection import train_test_split\n",
    "import torch\n",
    "from torch.utils.data import Dataset, DataLoader\n",
    "import random\n",
    "\n",
    "# Добавляем функцию set_seed\n",
    "def set_seed(seed: int = 42) -> None:\n",
    "    \"\"\"\n",
    "    Фиксируем все генераторы случайных чисел для воспроизводимости\n",
    "    \"\"\"\n",
    "    random.seed(seed)\n",
    "    np.random.seed(seed)\n",
    "    torch.manual_seed(seed)\n",
    "    torch.cuda.manual_seed(seed)\n",
    "    torch.cuda.manual_seed_all(seed)\n",
    "    torch.backends.cudnn.deterministic = True\n",
    "    torch.backends.cudnn.benchmark = False\n",
    "\n",
    "# Устанавливаем начальный seed\n",
    "set_seed(42)\n",
    "\n",
    "# Загрузка данных\n",
    "df = pd.read_csv('air_quality.csv')\n",
    "\n",
    "# Подготовка данных\n",
    "X = df.drop('air_quality', axis=1)\n",
    "y = df['air_quality']"
   ]
  },
  {
   "cell_type": "markdown",
   "id": "ab3a0bbe",
   "metadata": {},
   "source": [
    "## 2. Подготовьте данные к обучению - 1 балл\n",
    "\n",
    "- Разделите датасет на обучающую, валидационную и тестовую выборки со стратификацией. В качестве целевой переменной используйте столбец air_quality - бинарный столбец (0 - плохое качество воздуха, 1 - хорошее качество воздуха).\n",
    "\n",
    "- Создайте объекты для работы с данными в PyTorch - Dataset и DataLoader для обучающей, валидационной и тестовой выборок. Выберите оптимальный, на ваш взгляд, batch_size."
   ]
  },
  {
   "cell_type": "code",
   "execution_count": 2,
   "id": "76512d02",
   "metadata": {},
   "outputs": [],
   "source": [
    "# Устанавливаем seed перед разделением данных\n",
    "set_seed(42)\n",
    "\n",
    "# Разделяем данные\n",
    "X_temp, X_test, y_temp, y_test = train_test_split(\n",
    "    X, y, \n",
    "    test_size=0.2, \n",
    "    random_state=42,\n",
    "    stratify=y\n",
    ")\n",
    "\n",
    "X_train, X_val, y_train, y_val = train_test_split(\n",
    "    X_temp, y_temp,\n",
    "    test_size=0.25,\n",
    "    random_state=42,\n",
    "    stratify=y_temp\n",
    ")"
   ]
  },
  {
   "cell_type": "code",
   "execution_count": 3,
   "id": "5af5db54",
   "metadata": {},
   "outputs": [],
   "source": [
    "# Создаем класс для работы с данными\n",
    "class AirQualityDataset(Dataset):\n",
    "    def __init__(self, X, y):\n",
    "        self.X = torch.FloatTensor(X.values)\n",
    "        self.y = torch.LongTensor(y.values)\n",
    "        \n",
    "    def __len__(self):\n",
    "        return len(self.X)\n",
    "    \n",
    "    def __getitem__(self, idx):\n",
    "        return self.X[idx], self.y[idx]\n",
    "\n",
    "# Создаем объекты Dataset\n",
    "train_dataset = AirQualityDataset(X_train, y_train)\n",
    "val_dataset = AirQualityDataset(X_val, y_val)\n",
    "test_dataset = AirQualityDataset(X_test, y_test)\n",
    "\n",
    "# Создаем объекты DataLoader\n",
    "batch_size = 32\n",
    "train_loader = DataLoader(train_dataset, batch_size=batch_size, shuffle=True)\n",
    "val_loader = DataLoader(val_dataset, batch_size=batch_size, shuffle=False)\n",
    "test_loader = DataLoader(test_dataset, batch_size=batch_size, shuffle=False)"
   ]
  },
  {
   "cell_type": "markdown",
   "id": "89a1ddf8",
   "metadata": {},
   "source": [
    "## 3. Реализуйте класс нейросетевой модели для решения задачи - 1 балл\n",
    "\n",
    "- Минимальное количество Linear слоев в структуре - 3 штуки: входной слой, скрытый слой, выходной классификационный слой.\n",
    "- Подберите оптимальные для задачи функции активации - ReLU, Sigmoid, Tanh, LeakyReLU...\n",
    "- Реализуйте логику прохождения данных по сети в методе forward\n",
    "- Cоздайте объект модели, реализуйте перевод модели на gpu"
   ]
  },
  {
   "cell_type": "markdown",
   "id": "f088f95b",
   "metadata": {},
   "source": [
    "Примечание: в качестве устрйо ства я указал свой девайс cuda:0. девайс может отличатсья взависимости от конфигурации вашего ПК"
   ]
  },
  {
   "cell_type": "code",
   "execution_count": 5,
   "id": "33e12f42",
   "metadata": {},
   "outputs": [],
   "source": [
    "import torch.nn as nn\n",
    "\n",
    "# Устанавливаем seed для инициализации весов\n",
    "set_seed(42)\n",
    "\n",
    "class AirQualityNet(nn.Module):\n",
    "    def __init__(self, input_size):\n",
    "        super(AirQualityNet, self).__init__()\n",
    "        \n",
    "        self.layer1 = nn.Sequential(\n",
    "            nn.Linear(input_size, 64),\n",
    "            nn.BatchNorm1d(64),\n",
    "            nn.ReLU(),\n",
    "            nn.Dropout(0.3)\n",
    "        )\n",
    "        \n",
    "        self.layer2 = nn.Sequential(\n",
    "            nn.Linear(64, 32),\n",
    "            nn.BatchNorm1d(32),\n",
    "            nn.ReLU(),\n",
    "            nn.Dropout(0.2)\n",
    "        )\n",
    "        \n",
    "        self.layer3 = nn.Sequential(\n",
    "            nn.Linear(32, 1),\n",
    "            nn.Sigmoid()\n",
    "        )\n",
    "        \n",
    "    def forward(self, x):\n",
    "        x = self.layer1(x)\n",
    "        x = self.layer2(x)\n",
    "        x = self.layer3(x)\n",
    "        return x.squeeze()\n",
    "\n",
    "# Получаем размерность входного слоя из данных\n",
    "input_size = X_train.shape[1]\n",
    "\n",
    "# Создаем объект модели\n",
    "model = AirQualityNet(input_size)\n",
    "\n",
    "# Проверяем доступность GPU и переносим модель на него\n",
    "device = torch.device('cuda:0' if torch.cuda.is_available() else 'cpu')\n",
    "model = model.to(device)"
   ]
  },
  {
   "cell_type": "markdown",
   "id": "90868a63",
   "metadata": {},
   "source": [
    "## 4. Напишите код цикла обучения - train-loop и валидации - eval-loop. В процессе обучения сохраняйте значения функции потерь на тренировочной и валидационной выборках - 1 балл"
   ]
  },
  {
   "cell_type": "code",
   "execution_count": 6,
   "id": "7774be86",
   "metadata": {},
   "outputs": [
    {
     "name": "stderr",
     "output_type": "stream",
     "text": [
      "Epoch 1/30: 100%|██████████████████████████████████████████████████████████████████████| 94/94 [00:03<00:00, 23.55it/s]\n"
     ]
    },
    {
     "name": "stdout",
     "output_type": "stream",
     "text": [
      "Epoch [1/30]\n",
      "Training Loss: 0.4020\n",
      "Validation Loss: 0.3009\n",
      "--------------------------------------------------\n"
     ]
    },
    {
     "name": "stderr",
     "output_type": "stream",
     "text": [
      "Epoch 2/30: 100%|█████████████████████████████████████████████████████████████████████| 94/94 [00:00<00:00, 232.10it/s]\n"
     ]
    },
    {
     "name": "stdout",
     "output_type": "stream",
     "text": [
      "Epoch [2/30]\n",
      "Training Loss: 0.2678\n",
      "Validation Loss: 0.2129\n",
      "--------------------------------------------------\n"
     ]
    },
    {
     "name": "stderr",
     "output_type": "stream",
     "text": [
      "Epoch 3/30: 100%|█████████████████████████████████████████████████████████████████████| 94/94 [00:00<00:00, 229.83it/s]\n"
     ]
    },
    {
     "name": "stdout",
     "output_type": "stream",
     "text": [
      "Epoch [3/30]\n",
      "Training Loss: 0.2096\n",
      "Validation Loss: 0.1815\n",
      "--------------------------------------------------\n"
     ]
    },
    {
     "name": "stderr",
     "output_type": "stream",
     "text": [
      "Epoch 4/30: 100%|█████████████████████████████████████████████████████████████████████| 94/94 [00:00<00:00, 229.27it/s]\n"
     ]
    },
    {
     "name": "stdout",
     "output_type": "stream",
     "text": [
      "Epoch [4/30]\n",
      "Training Loss: 0.1902\n",
      "Validation Loss: 0.1815\n",
      "--------------------------------------------------\n"
     ]
    },
    {
     "name": "stderr",
     "output_type": "stream",
     "text": [
      "Epoch 5/30: 100%|█████████████████████████████████████████████████████████████████████| 94/94 [00:00<00:00, 248.02it/s]\n"
     ]
    },
    {
     "name": "stdout",
     "output_type": "stream",
     "text": [
      "Epoch [5/30]\n",
      "Training Loss: 0.1818\n",
      "Validation Loss: 0.1398\n",
      "--------------------------------------------------\n"
     ]
    },
    {
     "name": "stderr",
     "output_type": "stream",
     "text": [
      "Epoch 6/30: 100%|█████████████████████████████████████████████████████████████████████| 94/94 [00:00<00:00, 246.07it/s]\n"
     ]
    },
    {
     "name": "stdout",
     "output_type": "stream",
     "text": [
      "Epoch [6/30]\n",
      "Training Loss: 0.1912\n",
      "Validation Loss: 0.1561\n",
      "--------------------------------------------------\n"
     ]
    },
    {
     "name": "stderr",
     "output_type": "stream",
     "text": [
      "Epoch 7/30: 100%|█████████████████████████████████████████████████████████████████████| 94/94 [00:00<00:00, 258.95it/s]\n"
     ]
    },
    {
     "name": "stdout",
     "output_type": "stream",
     "text": [
      "Epoch [7/30]\n",
      "Training Loss: 0.1635\n",
      "Validation Loss: 0.1415\n",
      "--------------------------------------------------\n"
     ]
    },
    {
     "name": "stderr",
     "output_type": "stream",
     "text": [
      "Epoch 8/30: 100%|█████████████████████████████████████████████████████████████████████| 94/94 [00:00<00:00, 251.34it/s]\n"
     ]
    },
    {
     "name": "stdout",
     "output_type": "stream",
     "text": [
      "Epoch [8/30]\n",
      "Training Loss: 0.1742\n",
      "Validation Loss: 0.1897\n",
      "--------------------------------------------------\n"
     ]
    },
    {
     "name": "stderr",
     "output_type": "stream",
     "text": [
      "Epoch 9/30: 100%|█████████████████████████████████████████████████████████████████████| 94/94 [00:00<00:00, 242.89it/s]\n"
     ]
    },
    {
     "name": "stdout",
     "output_type": "stream",
     "text": [
      "Epoch [9/30]\n",
      "Training Loss: 0.1626\n",
      "Validation Loss: 0.1300\n",
      "--------------------------------------------------\n"
     ]
    },
    {
     "name": "stderr",
     "output_type": "stream",
     "text": [
      "Epoch 10/30: 100%|████████████████████████████████████████████████████████████████████| 94/94 [00:00<00:00, 249.34it/s]\n"
     ]
    },
    {
     "name": "stdout",
     "output_type": "stream",
     "text": [
      "Epoch [10/30]\n",
      "Training Loss: 0.1694\n",
      "Validation Loss: 0.1333\n",
      "--------------------------------------------------\n"
     ]
    },
    {
     "name": "stderr",
     "output_type": "stream",
     "text": [
      "Epoch 11/30: 100%|████████████████████████████████████████████████████████████████████| 94/94 [00:00<00:00, 237.37it/s]\n"
     ]
    },
    {
     "name": "stdout",
     "output_type": "stream",
     "text": [
      "Epoch [11/30]\n",
      "Training Loss: 0.1570\n",
      "Validation Loss: 0.1256\n",
      "--------------------------------------------------\n"
     ]
    },
    {
     "name": "stderr",
     "output_type": "stream",
     "text": [
      "Epoch 12/30: 100%|████████████████████████████████████████████████████████████████████| 94/94 [00:00<00:00, 229.83it/s]\n"
     ]
    },
    {
     "name": "stdout",
     "output_type": "stream",
     "text": [
      "Epoch [12/30]\n",
      "Training Loss: 0.1474\n",
      "Validation Loss: 0.1202\n",
      "--------------------------------------------------\n"
     ]
    },
    {
     "name": "stderr",
     "output_type": "stream",
     "text": [
      "Epoch 13/30: 100%|████████████████████████████████████████████████████████████████████| 94/94 [00:00<00:00, 241.64it/s]\n"
     ]
    },
    {
     "name": "stdout",
     "output_type": "stream",
     "text": [
      "Epoch [13/30]\n",
      "Training Loss: 0.1542\n",
      "Validation Loss: 0.1146\n",
      "--------------------------------------------------\n"
     ]
    },
    {
     "name": "stderr",
     "output_type": "stream",
     "text": [
      "Epoch 14/30: 100%|████████████████████████████████████████████████████████████████████| 94/94 [00:00<00:00, 245.43it/s]\n"
     ]
    },
    {
     "name": "stdout",
     "output_type": "stream",
     "text": [
      "Epoch [14/30]\n",
      "Training Loss: 0.1469\n",
      "Validation Loss: 0.1113\n",
      "--------------------------------------------------\n"
     ]
    },
    {
     "name": "stderr",
     "output_type": "stream",
     "text": [
      "Epoch 15/30: 100%|████████████████████████████████████████████████████████████████████| 94/94 [00:00<00:00, 250.67it/s]\n"
     ]
    },
    {
     "name": "stdout",
     "output_type": "stream",
     "text": [
      "Epoch [15/30]\n",
      "Training Loss: 0.1535\n",
      "Validation Loss: 0.1240\n",
      "--------------------------------------------------\n"
     ]
    },
    {
     "name": "stderr",
     "output_type": "stream",
     "text": [
      "Epoch 16/30: 100%|████████████████████████████████████████████████████████████████████| 94/94 [00:00<00:00, 250.67it/s]\n"
     ]
    },
    {
     "name": "stdout",
     "output_type": "stream",
     "text": [
      "Epoch [16/30]\n",
      "Training Loss: 0.1577\n",
      "Validation Loss: 0.1694\n",
      "--------------------------------------------------\n"
     ]
    },
    {
     "name": "stderr",
     "output_type": "stream",
     "text": [
      "Epoch 17/30: 100%|████████████████████████████████████████████████████████████████████| 94/94 [00:00<00:00, 220.66it/s]\n"
     ]
    },
    {
     "name": "stdout",
     "output_type": "stream",
     "text": [
      "Epoch [17/30]\n",
      "Training Loss: 0.1441\n",
      "Validation Loss: 0.1075\n",
      "--------------------------------------------------\n"
     ]
    },
    {
     "name": "stderr",
     "output_type": "stream",
     "text": [
      "Epoch 18/30: 100%|████████████████████████████████████████████████████████████████████| 94/94 [00:00<00:00, 255.44it/s]\n"
     ]
    },
    {
     "name": "stdout",
     "output_type": "stream",
     "text": [
      "Epoch [18/30]\n",
      "Training Loss: 0.1382\n",
      "Validation Loss: 0.1711\n",
      "--------------------------------------------------\n"
     ]
    },
    {
     "name": "stderr",
     "output_type": "stream",
     "text": [
      "Epoch 19/30: 100%|████████████████████████████████████████████████████████████████████| 94/94 [00:00<00:00, 257.54it/s]\n"
     ]
    },
    {
     "name": "stdout",
     "output_type": "stream",
     "text": [
      "Epoch [19/30]\n",
      "Training Loss: 0.1440\n",
      "Validation Loss: 0.1036\n",
      "--------------------------------------------------\n"
     ]
    },
    {
     "name": "stderr",
     "output_type": "stream",
     "text": [
      "Epoch 20/30: 100%|████████████████████████████████████████████████████████████████████| 94/94 [00:00<00:00, 256.40it/s]\n"
     ]
    },
    {
     "name": "stdout",
     "output_type": "stream",
     "text": [
      "Epoch [20/30]\n",
      "Training Loss: 0.1450\n",
      "Validation Loss: 0.1747\n",
      "--------------------------------------------------\n"
     ]
    },
    {
     "name": "stderr",
     "output_type": "stream",
     "text": [
      "Epoch 21/30: 100%|████████████████████████████████████████████████████████████████████| 94/94 [00:00<00:00, 257.54it/s]\n"
     ]
    },
    {
     "name": "stdout",
     "output_type": "stream",
     "text": [
      "Epoch [21/30]\n",
      "Training Loss: 0.1336\n",
      "Validation Loss: 0.1128\n",
      "--------------------------------------------------\n"
     ]
    },
    {
     "name": "stderr",
     "output_type": "stream",
     "text": [
      "Epoch 22/30: 100%|████████████████████████████████████████████████████████████████████| 94/94 [00:00<00:00, 261.11it/s]\n"
     ]
    },
    {
     "name": "stdout",
     "output_type": "stream",
     "text": [
      "Epoch [22/30]\n",
      "Training Loss: 0.1368\n",
      "Validation Loss: 0.1133\n",
      "--------------------------------------------------\n"
     ]
    },
    {
     "name": "stderr",
     "output_type": "stream",
     "text": [
      "Epoch 23/30: 100%|████████████████████████████████████████████████████████████████████| 94/94 [00:00<00:00, 257.54it/s]\n"
     ]
    },
    {
     "name": "stdout",
     "output_type": "stream",
     "text": [
      "Epoch [23/30]\n",
      "Training Loss: 0.1508\n",
      "Validation Loss: 0.1232\n",
      "--------------------------------------------------\n"
     ]
    },
    {
     "name": "stderr",
     "output_type": "stream",
     "text": [
      "Epoch 24/30: 100%|████████████████████████████████████████████████████████████████████| 94/94 [00:00<00:00, 236.78it/s]\n"
     ]
    },
    {
     "name": "stdout",
     "output_type": "stream",
     "text": [
      "Epoch [24/30]\n",
      "Training Loss: 0.1291\n",
      "Validation Loss: 0.0953\n",
      "--------------------------------------------------\n"
     ]
    },
    {
     "name": "stderr",
     "output_type": "stream",
     "text": [
      "Epoch 25/30: 100%|████████████████████████████████████████████████████████████████████| 94/94 [00:00<00:00, 256.83it/s]\n"
     ]
    },
    {
     "name": "stdout",
     "output_type": "stream",
     "text": [
      "Epoch [25/30]\n",
      "Training Loss: 0.1380\n",
      "Validation Loss: 0.1200\n",
      "--------------------------------------------------\n"
     ]
    },
    {
     "name": "stderr",
     "output_type": "stream",
     "text": [
      "Epoch 26/30: 100%|████████████████████████████████████████████████████████████████████| 94/94 [00:00<00:00, 256.14it/s]\n"
     ]
    },
    {
     "name": "stdout",
     "output_type": "stream",
     "text": [
      "Epoch [26/30]\n",
      "Training Loss: 0.1297\n",
      "Validation Loss: 0.0939\n",
      "--------------------------------------------------\n"
     ]
    },
    {
     "name": "stderr",
     "output_type": "stream",
     "text": [
      "Epoch 27/30: 100%|████████████████████████████████████████████████████████████████████| 94/94 [00:00<00:00, 258.96it/s]\n"
     ]
    },
    {
     "name": "stdout",
     "output_type": "stream",
     "text": [
      "Epoch [27/30]\n",
      "Training Loss: 0.1268\n",
      "Validation Loss: 0.1366\n",
      "--------------------------------------------------\n"
     ]
    },
    {
     "name": "stderr",
     "output_type": "stream",
     "text": [
      "Epoch 28/30: 100%|████████████████████████████████████████████████████████████████████| 94/94 [00:00<00:00, 254.74it/s]\n"
     ]
    },
    {
     "name": "stdout",
     "output_type": "stream",
     "text": [
      "Epoch [28/30]\n",
      "Training Loss: 0.1346\n",
      "Validation Loss: 0.1435\n",
      "--------------------------------------------------\n"
     ]
    },
    {
     "name": "stderr",
     "output_type": "stream",
     "text": [
      "Epoch 29/30: 100%|████████████████████████████████████████████████████████████████████| 94/94 [00:00<00:00, 261.84it/s]\n"
     ]
    },
    {
     "name": "stdout",
     "output_type": "stream",
     "text": [
      "Epoch [29/30]\n",
      "Training Loss: 0.1402\n",
      "Validation Loss: 0.0929\n",
      "--------------------------------------------------\n"
     ]
    },
    {
     "name": "stderr",
     "output_type": "stream",
     "text": [
      "Epoch 30/30: 100%|████████████████████████████████████████████████████████████████████| 94/94 [00:00<00:00, 257.53it/s]\n"
     ]
    },
    {
     "name": "stdout",
     "output_type": "stream",
     "text": [
      "Epoch [30/30]\n",
      "Training Loss: 0.1255\n",
      "Validation Loss: 0.0889\n",
      "--------------------------------------------------\n"
     ]
    },
    {
     "data": {
      "image/png": "[encoded data removed]",
      "text/plain": [
       "<Figure size 1000x600 with 1 Axes>"
      ]
     },
     "metadata": {},
     "output_type": "display_data"
    },
    {
     "name": "stdout",
     "output_type": "stream",
     "text": [
      "\n",
      "Отчет о классификации:\n",
      "                  precision    recall  f1-score   support\n",
      "\n",
      " Плохое качество       0.95      0.95      0.95       300\n",
      "Хорошее качество       0.98      0.98      0.98       700\n",
      "\n",
      "        accuracy                           0.97      1000\n",
      "       macro avg       0.97      0.97      0.97      1000\n",
      "    weighted avg       0.97      0.97      0.97      1000\n",
      "\n"
     ]
    }
   ],
   "source": [
    "import torch.optim as optim\n",
    "from tqdm import tqdm\n",
    "import matplotlib.pyplot as plt\n",
    "from sklearn.metrics import classification_report\n",
    "\n",
    "def train_model(model, train_loader, val_loader, criterion, optimizer, num_epochs, device):\n",
    "    # Устанавливаем seed перед началом обучения\n",
    "    set_seed(42)\n",
    "    \n",
    "    train_losses = []\n",
    "    val_losses = []\n",
    "    \n",
    "    for epoch in range(num_epochs):\n",
    "        # Training loop\n",
    "        model.train()\n",
    "        train_loss = 0.0\n",
    "        train_batches = 0\n",
    "        \n",
    "        for inputs, labels in tqdm(train_loader, desc=f'Epoch {epoch+1}/{num_epochs}'):\n",
    "            inputs, labels = inputs.to(device), labels.to(device)\n",
    "            \n",
    "            optimizer.zero_grad()\n",
    "            outputs = model(inputs)\n",
    "            loss = criterion(outputs, labels.float())\n",
    "            loss.backward()\n",
    "            optimizer.step()\n",
    "            \n",
    "            train_loss += loss.item()\n",
    "            train_batches += 1\n",
    "        \n",
    "        avg_train_loss = train_loss / train_batches\n",
    "        train_losses.append(avg_train_loss)\n",
    "        \n",
    "        # Validation loop\n",
    "        model.eval()\n",
    "        val_loss = 0.0\n",
    "        val_batches = 0\n",
    "        \n",
    "        with torch.no_grad():\n",
    "            for inputs, labels in val_loader:\n",
    "                inputs, labels = inputs.to(device), labels.to(device)\n",
    "                outputs = model(inputs)\n",
    "                loss = criterion(outputs, labels.float())\n",
    "                val_loss += loss.item()\n",
    "                val_batches += 1\n",
    "        \n",
    "        avg_val_loss = val_loss / val_batches\n",
    "        val_losses.append(avg_val_loss)\n",
    "        \n",
    "        print(f'Epoch [{epoch+1}/{num_epochs}]')\n",
    "        print(f'Training Loss: {avg_train_loss:.4f}')\n",
    "        print(f'Validation Loss: {avg_val_loss:.4f}')\n",
    "        print('-' * 50)\n",
    "    \n",
    "    return train_losses, val_losses\n",
    "\n",
    "# Настройка обучения\n",
    "criterion = nn.BCELoss()\n",
    "optimizer = optim.Adam(model.parameters(), lr=0.001)\n",
    "num_epochs = 30\n",
    "\n",
    "# Запуск обучения\n",
    "train_losses, val_losses = train_model(\n",
    "    model=model,\n",
    "    train_loader=train_loader,\n",
    "    val_loader=val_loader,\n",
    "    criterion=criterion,\n",
    "    optimizer=optimizer,\n",
    "    num_epochs=num_epochs,\n",
    "    device=device\n",
    ")\n",
    "\n",
    "# Визуализация результатов обучения\n",
    "plt.figure(figsize=(10, 6))\n",
    "plt.plot(train_losses, label='Training Loss')\n",
    "plt.plot(val_losses, label='Validation Loss')\n",
    "plt.xlabel('Epoch')\n",
    "plt.ylabel('Loss')\n",
    "plt.title('Training and Validation Loss')\n",
    "plt.legend()\n",
    "plt.grid(True)\n",
    "plt.show()\n",
    "\n",
    "# Оцениваем модель на тестовой выборке\n",
    "model.eval()\n",
    "y_pred = []\n",
    "y_true = []\n",
    "\n",
    "with torch.no_grad():\n",
    "    for inputs, labels in test_loader:\n",
    "        inputs = inputs.to(device)\n",
    "        outputs = model(inputs)\n",
    "        predicted = (outputs > 0.5).float().cpu().numpy()\n",
    "        y_pred.extend(predicted)\n",
    "        y_true.extend(labels.numpy())\n",
    "\n",
    "# Выводим отчет о классификации\n",
    "print(\"\\nОтчет о классификации:\")\n",
    "print(classification_report(y_true, y_pred, target_names=['Плохое качество', 'Хорошее качество']))\n",
    "\n",
    "# Сохраняем обученную модель\n",
    "torch.save(model.state_dict(), 'air_quality_model.pth')"
   ]
  },
  {
   "cell_type": "code",
   "execution_count": null,
   "id": "9dfe1032",
   "metadata": {},
   "outputs": [],
   "source": []
  },
  {
   "cell_type": "markdown",
   "id": "187c8977",
   "metadata": {},
   "source": [
    "## 5. Обучите модель и проверьте ее качество - 1 балл\n",
    "\n",
    "- Выберите оптимизатор, в качестве функции потерь используйте nn.BCELoss\n",
    "- Запустите обучение, постарайтесь подобрать оптимальные скорость обучения и количество эпох, ориентируясь на динамику функции потерь на train/val\n",
    "- Измерьте качество лучшей модели на тестовой выборке, постройте отчет о классификации - classification_report"
   ]
  },
  {
   "cell_type": "code",
   "execution_count": 7,
   "id": "a7bfdc06",
   "metadata": {},
   "outputs": [
    {
     "name": "stdout",
     "output_type": "stream",
     "text": [
      "\n",
      "Обучение с learning rate: 0.001\n"
     ]
    },
    {
     "name": "stderr",
     "output_type": "stream",
     "text": [
      "Epoch 1/50: 100%|█████████████████████████████████████████████████████████████████████| 94/94 [00:00<00:00, 222.22it/s]\n",
      "Epoch 2/50: 100%|█████████████████████████████████████████████████████████████████████| 94/94 [00:00<00:00, 241.64it/s]\n",
      "Epoch 3/50: 100%|█████████████████████████████████████████████████████████████████████| 94/94 [00:00<00:00, 244.16it/s]\n",
      "Epoch 4/50: 100%|█████████████████████████████████████████████████████████████████████| 94/94 [00:00<00:00, 239.80it/s]\n",
      "Epoch 5/50: 100%|█████████████████████████████████████████████████████████████████████| 94/94 [00:00<00:00, 244.80it/s]\n"
     ]
    },
    {
     "name": "stdout",
     "output_type": "stream",
     "text": [
      "Epoch [5/50]\n",
      "Train Loss: 0.1693, Val Loss: 0.1485\n"
     ]
    },
    {
     "name": "stderr",
     "output_type": "stream",
     "text": [
      "Epoch 6/50: 100%|█████████████████████████████████████████████████████████████████████| 94/94 [00:00<00:00, 249.33it/s]\n",
      "Epoch 7/50: 100%|█████████████████████████████████████████████████████████████████████| 94/94 [00:00<00:00, 248.19it/s]\n",
      "Epoch 8/50: 100%|█████████████████████████████████████████████████████████████████████| 94/94 [00:00<00:00, 249.99it/s]\n",
      "Epoch 9/50: 100%|█████████████████████████████████████████████████████████████████████| 94/94 [00:00<00:00, 255.44it/s]\n",
      "Epoch 10/50: 100%|████████████████████████████████████████████████████████████████████| 94/94 [00:00<00:00, 248.68it/s]\n"
     ]
    },
    {
     "name": "stdout",
     "output_type": "stream",
     "text": [
      "Epoch [10/50]\n",
      "Train Loss: 0.1648, Val Loss: 0.1297\n"
     ]
    },
    {
     "name": "stderr",
     "output_type": "stream",
     "text": [
      "Epoch 11/50: 100%|████████████████████████████████████████████████████████████████████| 94/94 [00:00<00:00, 221.13it/s]\n",
      "Epoch 12/50: 100%|████████████████████████████████████████████████████████████████████| 94/94 [00:00<00:00, 242.80it/s]\n",
      "Epoch 13/50: 100%|████████████████████████████████████████████████████████████████████| 94/94 [00:00<00:00, 254.03it/s]\n",
      "Epoch 14/50: 100%|████████████████████████████████████████████████████████████████████| 94/94 [00:00<00:00, 250.67it/s]\n",
      "Epoch 15/50: 100%|████████████████████████████████████████████████████████████████████| 94/94 [00:00<00:00, 251.33it/s]\n"
     ]
    },
    {
     "name": "stdout",
     "output_type": "stream",
     "text": [
      "Epoch [15/50]\n",
      "Train Loss: 0.1422, Val Loss: 0.1109\n"
     ]
    },
    {
     "name": "stderr",
     "output_type": "stream",
     "text": [
      "Epoch 16/50: 100%|████████████████████████████████████████████████████████████████████| 94/94 [00:00<00:00, 248.67it/s]\n",
      "Epoch 17/50: 100%|████████████████████████████████████████████████████████████████████| 94/94 [00:00<00:00, 250.00it/s]\n",
      "Epoch 18/50: 100%|████████████████████████████████████████████████████████████████████| 94/94 [00:00<00:00, 251.31it/s]\n",
      "Epoch 19/50: 100%|████████████████████████████████████████████████████████████████████| 94/94 [00:00<00:00, 256.82it/s]\n",
      "Epoch 20/50: 100%|████████████████████████████████████████████████████████████████████| 94/94 [00:00<00:00, 263.29it/s]\n"
     ]
    },
    {
     "name": "stdout",
     "output_type": "stream",
     "text": [
      "Epoch [20/50]\n",
      "Train Loss: 0.1483, Val Loss: 0.1220\n"
     ]
    },
    {
     "name": "stderr",
     "output_type": "stream",
     "text": [
      "Epoch 21/50: 100%|████████████████████████████████████████████████████████████████████| 94/94 [00:00<00:00, 261.11it/s]\n",
      "Epoch 22/50: 100%|████████████████████████████████████████████████████████████████████| 94/94 [00:00<00:00, 257.57it/s]\n",
      "Epoch 23/50: 100%|████████████████████████████████████████████████████████████████████| 94/94 [00:00<00:00, 260.41it/s]\n",
      "Epoch 24/50: 100%|████████████████████████████████████████████████████████████████████| 94/94 [00:00<00:00, 214.12it/s]\n",
      "Epoch 25/50: 100%|████████████████████████████████████████████████████████████████████| 94/94 [00:00<00:00, 261.85it/s]\n"
     ]
    },
    {
     "name": "stdout",
     "output_type": "stream",
     "text": [
      "Epoch [25/50]\n",
      "Train Loss: 0.1359, Val Loss: 0.0994\n"
     ]
    },
    {
     "name": "stderr",
     "output_type": "stream",
     "text": [
      "Epoch 26/50: 100%|████████████████████████████████████████████████████████████████████| 94/94 [00:00<00:00, 252.66it/s]\n",
      "Epoch 27/50: 100%|████████████████████████████████████████████████████████████████████| 94/94 [00:00<00:00, 258.93it/s]\n",
      "Epoch 28/50: 100%|████████████████████████████████████████████████████████████████████| 94/94 [00:00<00:00, 254.54it/s]\n",
      "Epoch 29/50: 100%|████████████████████████████████████████████████████████████████████| 94/94 [00:00<00:00, 254.74it/s]\n",
      "Epoch 30/50: 100%|████████████████████████████████████████████████████████████████████| 94/94 [00:00<00:00, 254.72it/s]\n"
     ]
    },
    {
     "name": "stdout",
     "output_type": "stream",
     "text": [
      "Epoch [30/50]\n",
      "Train Loss: 0.1201, Val Loss: 0.1250\n"
     ]
    },
    {
     "name": "stderr",
     "output_type": "stream",
     "text": [
      "Epoch 31/50: 100%|████████████████████████████████████████████████████████████████████| 94/94 [00:00<00:00, 260.36it/s]\n",
      "Epoch 32/50: 100%|████████████████████████████████████████████████████████████████████| 94/94 [00:00<00:00, 253.37it/s]\n",
      "Epoch 33/50: 100%|████████████████████████████████████████████████████████████████████| 94/94 [00:00<00:00, 254.03it/s]\n",
      "Epoch 34/50: 100%|████████████████████████████████████████████████████████████████████| 94/94 [00:00<00:00, 254.06it/s]\n",
      "Epoch 35/50: 100%|████████████████████████████████████████████████████████████████████| 94/94 [00:00<00:00, 254.48it/s]\n"
     ]
    },
    {
     "name": "stdout",
     "output_type": "stream",
     "text": [
      "Epoch [35/50]\n",
      "Train Loss: 0.1298, Val Loss: 0.0862\n"
     ]
    },
    {
     "name": "stderr",
     "output_type": "stream",
     "text": [
      "Epoch 36/50: 100%|████████████████████████████████████████████████████████████████████| 94/94 [00:00<00:00, 248.02it/s]\n",
      "Epoch 37/50: 100%|████████████████████████████████████████████████████████████████████| 94/94 [00:00<00:00, 255.46it/s]\n",
      "Epoch 38/50: 100%|████████████████████████████████████████████████████████████████████| 94/94 [00:00<00:00, 254.08it/s]\n",
      "Epoch 39/50: 100%|████████████████████████████████████████████████████████████████████| 94/94 [00:00<00:00, 257.51it/s]\n",
      "Epoch 40/50: 100%|████████████████████████████████████████████████████████████████████| 94/94 [00:00<00:00, 258.93it/s]\n"
     ]
    },
    {
     "name": "stdout",
     "output_type": "stream",
     "text": [
      "Epoch [40/50]\n",
      "Train Loss: 0.1149, Val Loss: 0.0954\n"
     ]
    },
    {
     "name": "stderr",
     "output_type": "stream",
     "text": [
      "Epoch 41/50: 100%|████████████████████████████████████████████████████████████████████| 94/94 [00:00<00:00, 211.24it/s]\n",
      "Epoch 42/50: 100%|████████████████████████████████████████████████████████████████████| 94/94 [00:00<00:00, 250.03it/s]\n",
      "Epoch 43/50: 100%|████████████████████████████████████████████████████████████████████| 94/94 [00:00<00:00, 235.01it/s]\n",
      "Epoch 44/50: 100%|████████████████████████████████████████████████████████████████████| 94/94 [00:00<00:00, 249.34it/s]\n",
      "Epoch 45/50: 100%|████████████████████████████████████████████████████████████████████| 94/94 [00:00<00:00, 256.86it/s]\n"
     ]
    },
    {
     "name": "stdout",
     "output_type": "stream",
     "text": [
      "Epoch [45/50]\n",
      "Train Loss: 0.1141, Val Loss: 0.0803\n"
     ]
    },
    {
     "name": "stderr",
     "output_type": "stream",
     "text": [
      "Epoch 46/50: 100%|████████████████████████████████████████████████████████████████████| 94/94 [00:00<00:00, 264.02it/s]\n",
      "Epoch 47/50: 100%|████████████████████████████████████████████████████████████████████| 94/94 [00:00<00:00, 257.53it/s]\n",
      "Epoch 48/50: 100%|████████████████████████████████████████████████████████████████████| 94/94 [00:00<00:00, 262.59it/s]\n",
      "Epoch 49/50: 100%|████████████████████████████████████████████████████████████████████| 94/94 [00:00<00:00, 255.40it/s]\n",
      "Epoch 50/50: 100%|████████████████████████████████████████████████████████████████████| 94/94 [00:00<00:00, 256.85it/s]\n"
     ]
    },
    {
     "name": "stdout",
     "output_type": "stream",
     "text": [
      "Epoch [50/50]\n",
      "Train Loss: 0.1163, Val Loss: 0.1115\n",
      "\n",
      "Обучение с learning rate: 0.0001\n"
     ]
    },
    {
     "name": "stderr",
     "output_type": "stream",
     "text": [
      "Epoch 1/50: 100%|█████████████████████████████████████████████████████████████████████| 94/94 [00:00<00:00, 250.02it/s]\n",
      "Epoch 2/50: 100%|█████████████████████████████████████████████████████████████████████| 94/94 [00:00<00:00, 252.69it/s]\n",
      "Epoch 3/50: 100%|█████████████████████████████████████████████████████████████████████| 94/94 [00:00<00:00, 255.46it/s]\n",
      "Epoch 4/50: 100%|█████████████████████████████████████████████████████████████████████| 94/94 [00:00<00:00, 256.85it/s]\n",
      "Epoch 5/50: 100%|█████████████████████████████████████████████████████████████████████| 94/94 [00:00<00:00, 260.36it/s]\n"
     ]
    },
    {
     "name": "stdout",
     "output_type": "stream",
     "text": [
      "Epoch [5/50]\n",
      "Train Loss: 0.3973, Val Loss: 0.3799\n"
     ]
    },
    {
     "name": "stderr",
     "output_type": "stream",
     "text": [
      "Epoch 6/50: 100%|█████████████████████████████████████████████████████████████████████| 94/94 [00:00<00:00, 254.74it/s]\n",
      "Epoch 7/50: 100%|█████████████████████████████████████████████████████████████████████| 94/94 [00:00<00:00, 251.30it/s]\n",
      "Epoch 8/50: 100%|█████████████████████████████████████████████████████████████████████| 94/94 [00:00<00:00, 256.11it/s]\n",
      "Epoch 9/50: 100%|█████████████████████████████████████████████████████████████████████| 94/94 [00:00<00:00, 256.83it/s]\n",
      "Epoch 10/50: 100%|████████████████████████████████████████████████████████████████████| 94/94 [00:00<00:00, 258.25it/s]\n"
     ]
    },
    {
     "name": "stdout",
     "output_type": "stream",
     "text": [
      "Epoch [10/50]\n",
      "Train Loss: 0.3052, Val Loss: 0.2847\n"
     ]
    },
    {
     "name": "stderr",
     "output_type": "stream",
     "text": [
      "Epoch 11/50: 100%|████████████████████████████████████████████████████████████████████| 94/94 [00:00<00:00, 257.53it/s]\n",
      "Epoch 12/50: 100%|████████████████████████████████████████████████████████████████████| 94/94 [00:00<00:00, 256.11it/s]\n",
      "Epoch 13/50: 100%|████████████████████████████████████████████████████████████████████| 94/94 [00:00<00:00, 256.81it/s]\n",
      "Epoch 14/50: 100%|████████████████████████████████████████████████████████████████████| 94/94 [00:00<00:00, 261.11it/s]\n",
      "Epoch 15/50: 100%|████████████████████████████████████████████████████████████████████| 94/94 [00:00<00:00, 232.65it/s]\n"
     ]
    },
    {
     "name": "stdout",
     "output_type": "stream",
     "text": [
      "Epoch [15/50]\n",
      "Train Loss: 0.2454, Val Loss: 0.2240\n"
     ]
    },
    {
     "name": "stderr",
     "output_type": "stream",
     "text": [
      "Epoch 16/50: 100%|████████████████████████████████████████████████████████████████████| 94/94 [00:00<00:00, 251.99it/s]\n",
      "Epoch 17/50: 100%|████████████████████████████████████████████████████████████████████| 94/94 [00:00<00:00, 261.86it/s]\n",
      "Epoch 18/50: 100%|████████████████████████████████████████████████████████████████████| 94/94 [00:00<00:00, 217.59it/s]\n",
      "Epoch 19/50: 100%|████████████████████████████████████████████████████████████████████| 94/94 [00:00<00:00, 225.42it/s]\n",
      "Epoch 20/50: 100%|████████████████████████████████████████████████████████████████████| 94/94 [00:00<00:00, 227.05it/s]\n"
     ]
    },
    {
     "name": "stdout",
     "output_type": "stream",
     "text": [
      "Epoch [20/50]\n",
      "Train Loss: 0.2268, Val Loss: 0.1933\n"
     ]
    },
    {
     "name": "stderr",
     "output_type": "stream",
     "text": [
      "Epoch 21/50: 100%|████████████████████████████████████████████████████████████████████| 94/94 [00:00<00:00, 234.42it/s]\n",
      "Epoch 22/50: 100%|████████████████████████████████████████████████████████████████████| 94/94 [00:00<00:00, 238.58it/s]\n",
      "Epoch 23/50: 100%|████████████████████████████████████████████████████████████████████| 94/94 [00:00<00:00, 230.39it/s]\n",
      "Epoch 24/50: 100%|████████████████████████████████████████████████████████████████████| 94/94 [00:00<00:00, 246.07it/s]\n",
      "Epoch 25/50: 100%|████████████████████████████████████████████████████████████████████| 94/94 [00:00<00:00, 239.79it/s]\n"
     ]
    },
    {
     "name": "stdout",
     "output_type": "stream",
     "text": [
      "Epoch [25/50]\n",
      "Train Loss: 0.2044, Val Loss: 0.1743\n"
     ]
    },
    {
     "name": "stderr",
     "output_type": "stream",
     "text": [
      "Epoch 26/50: 100%|████████████████████████████████████████████████████████████████████| 94/94 [00:00<00:00, 242.27it/s]\n",
      "Epoch 27/50: 100%|████████████████████████████████████████████████████████████████████| 94/94 [00:00<00:00, 246.06it/s]\n",
      "Epoch 28/50: 100%|████████████████████████████████████████████████████████████████████| 94/94 [00:00<00:00, 244.16it/s]\n",
      "Epoch 29/50: 100%|████████████████████████████████████████████████████████████████████| 94/94 [00:00<00:00, 241.65it/s]\n",
      "Epoch 30/50: 100%|████████████████████████████████████████████████████████████████████| 94/94 [00:00<00:00, 237.97it/s]\n"
     ]
    },
    {
     "name": "stdout",
     "output_type": "stream",
     "text": [
      "Epoch [30/50]\n",
      "Train Loss: 0.1901, Val Loss: 0.1678\n"
     ]
    },
    {
     "name": "stderr",
     "output_type": "stream",
     "text": [
      "Epoch 31/50: 100%|████████████████████████████████████████████████████████████████████| 94/94 [00:00<00:00, 238.58it/s]\n",
      "Epoch 32/50: 100%|████████████████████████████████████████████████████████████████████| 94/94 [00:00<00:00, 243.52it/s]\n",
      "Epoch 33/50: 100%|████████████████████████████████████████████████████████████████████| 94/94 [00:00<00:00, 246.06it/s]\n",
      "Epoch 34/50: 100%|████████████████████████████████████████████████████████████████████| 94/94 [00:00<00:00, 240.41it/s]\n",
      "Epoch 35/50: 100%|████████████████████████████████████████████████████████████████████| 94/94 [00:00<00:00, 241.05it/s]\n"
     ]
    },
    {
     "name": "stdout",
     "output_type": "stream",
     "text": [
      "Epoch [35/50]\n",
      "Train Loss: 0.1898, Val Loss: 0.1507\n"
     ]
    },
    {
     "name": "stderr",
     "output_type": "stream",
     "text": [
      "Epoch 36/50: 100%|████████████████████████████████████████████████████████████████████| 94/94 [00:00<00:00, 242.89it/s]\n",
      "Epoch 37/50: 100%|████████████████████████████████████████████████████████████████████| 94/94 [00:00<00:00, 206.59it/s]\n",
      "Epoch 38/50: 100%|████████████████████████████████████████████████████████████████████| 94/94 [00:00<00:00, 230.96it/s]\n",
      "Epoch 39/50: 100%|████████████████████████████████████████████████████████████████████| 94/94 [00:00<00:00, 238.58it/s]\n",
      "Epoch 40/50: 100%|████████████████████████████████████████████████████████████████████| 94/94 [00:00<00:00, 242.90it/s]\n"
     ]
    },
    {
     "name": "stdout",
     "output_type": "stream",
     "text": [
      "Epoch [40/50]\n",
      "Train Loss: 0.1801, Val Loss: 0.1482\n"
     ]
    },
    {
     "name": "stderr",
     "output_type": "stream",
     "text": [
      "Epoch 41/50: 100%|████████████████████████████████████████████████████████████████████| 94/94 [00:00<00:00, 241.03it/s]\n",
      "Epoch 42/50: 100%|████████████████████████████████████████████████████████████████████| 94/94 [00:00<00:00, 239.80it/s]\n",
      "Epoch 43/50: 100%|████████████████████████████████████████████████████████████████████| 94/94 [00:00<00:00, 239.18it/s]\n",
      "Epoch 44/50: 100%|████████████████████████████████████████████████████████████████████| 94/94 [00:00<00:00, 236.77it/s]\n",
      "Epoch 45/50: 100%|████████████████████████████████████████████████████████████████████| 94/94 [00:00<00:00, 238.57it/s]\n"
     ]
    },
    {
     "name": "stdout",
     "output_type": "stream",
     "text": [
      "Epoch [45/50]\n",
      "Train Loss: 0.1768, Val Loss: 0.1430\n"
     ]
    },
    {
     "name": "stderr",
     "output_type": "stream",
     "text": [
      "Epoch 46/50: 100%|████████████████████████████████████████████████████████████████████| 94/94 [00:00<00:00, 242.27it/s]\n",
      "Epoch 47/50: 100%|████████████████████████████████████████████████████████████████████| 94/94 [00:00<00:00, 244.79it/s]\n",
      "Epoch 48/50: 100%|████████████████████████████████████████████████████████████████████| 94/94 [00:00<00:00, 239.80it/s]\n",
      "Epoch 49/50: 100%|████████████████████████████████████████████████████████████████████| 94/94 [00:00<00:00, 241.65it/s]\n",
      "Epoch 50/50: 100%|████████████████████████████████████████████████████████████████████| 94/94 [00:00<00:00, 237.98it/s]\n"
     ]
    },
    {
     "name": "stdout",
     "output_type": "stream",
     "text": [
      "Epoch [50/50]\n",
      "Train Loss: 0.1765, Val Loss: 0.1391\n"
     ]
    },
    {
     "data": {
      "image/png": "[encoded data removed]",
      "text/plain": [
       "<Figure size 1200x600 with 1 Axes>"
      ]
     },
     "metadata": {},
     "output_type": "display_data"
    },
    {
     "name": "stdout",
     "output_type": "stream",
     "text": [
      "\n",
      "Лучший learning rate: 0.001\n",
      "\n",
      "Отчет о классификации:\n",
      "                  precision    recall  f1-score   support\n",
      "\n",
      " Плохое качество       0.88      0.99      0.93       300\n",
      "Хорошее качество       0.99      0.94      0.97       700\n",
      "\n",
      "        accuracy                           0.96      1000\n",
      "       macro avg       0.94      0.96      0.95      1000\n",
      "    weighted avg       0.96      0.96      0.96      1000\n",
      "\n"
     ]
    }
   ],
   "source": [
    "from sklearn.metrics import classification_report\n",
    "import torch.optim as optim\n",
    "import numpy as np\n",
    "from tqdm import tqdm\n",
    "\n",
    "# Функция для оценки модели на тестовой выборке\n",
    "def evaluate_model(model, test_loader, device):\n",
    "    model.eval()\n",
    "    all_predictions = []\n",
    "    all_labels = []\n",
    "    \n",
    "    with torch.no_grad():\n",
    "        for inputs, labels in test_loader:\n",
    "            inputs = inputs.to(device)\n",
    "            outputs = model(inputs)\n",
    "            predicted = (outputs > 0.5).float().cpu().numpy()\n",
    "            all_predictions.extend(predicted)\n",
    "            all_labels.extend(labels.numpy())\n",
    "    \n",
    "    return np.array(all_predictions), np.array(all_labels)\n",
    "\n",
    "# Устанавливаем seed перед обучением\n",
    "set_seed(42)\n",
    "\n",
    "# Параметры обучения\n",
    "learning_rates = [0.001, 0.0001]  # Попробуем разные learning rates\n",
    "num_epochs = 50\n",
    "best_val_loss = float('inf')\n",
    "best_model_state = None\n",
    "\n",
    "# Словарь для хранения результатов для разных learning rates\n",
    "results = {}\n",
    "\n",
    "for lr in learning_rates:\n",
    "    print(f\"\\nОбучение с learning rate: {lr}\")\n",
    "    \n",
    "    # Устанавливаем seed перед инициализацией модели для каждого lr\n",
    "    set_seed(42)\n",
    "    \n",
    "    # Инициализируем модель и оптимизатор\n",
    "    model = AirQualityNet(input_size).to(device)\n",
    "    optimizer = optim.Adam(model.parameters(), lr=lr)\n",
    "    criterion = nn.BCELoss()\n",
    "    \n",
    "    # Списки для хранения потерь\n",
    "    train_losses = []\n",
    "    val_losses = []\n",
    "    \n",
    "    # Обучение модели\n",
    "    for epoch in range(num_epochs):\n",
    "        # Training phase\n",
    "        model.train()\n",
    "        train_loss = 0.0\n",
    "        for inputs, labels in tqdm(train_loader, desc=f'Epoch {epoch+1}/{num_epochs}'):\n",
    "            inputs, labels = inputs.to(device), labels.to(device)\n",
    "            \n",
    "            optimizer.zero_grad()\n",
    "            outputs = model(inputs)\n",
    "            loss = criterion(outputs, labels.float())\n",
    "            loss.backward()\n",
    "            optimizer.step()\n",
    "            \n",
    "            train_loss += loss.item()\n",
    "        \n",
    "        avg_train_loss = train_loss / len(train_loader)\n",
    "        train_losses.append(avg_train_loss)\n",
    "        \n",
    "        # Validation phase\n",
    "        model.eval()\n",
    "        val_loss = 0.0\n",
    "        with torch.no_grad():\n",
    "            for inputs, labels in val_loader:\n",
    "                inputs, labels = inputs.to(device), labels.to(device)\n",
    "                outputs = model(inputs)\n",
    "                loss = criterion(outputs, labels.float())\n",
    "                val_loss += loss.item()\n",
    "        \n",
    "        avg_val_loss = val_loss / len(val_loader)\n",
    "        val_losses.append(avg_val_loss)\n",
    "        \n",
    "        # Сохраняем лучшую модель\n",
    "        if avg_val_loss < best_val_loss:\n",
    "            best_val_loss = avg_val_loss\n",
    "            best_model_state = model.state_dict().copy()\n",
    "        \n",
    "        if (epoch + 1) % 5 == 0:\n",
    "            print(f'Epoch [{epoch+1}/{num_epochs}]')\n",
    "            print(f'Train Loss: {avg_train_loss:.4f}, Val Loss: {avg_val_loss:.4f}')\n",
    "    \n",
    "    results[lr] = {\n",
    "        'train_losses': train_losses,\n",
    "        'val_losses': val_losses,\n",
    "        'best_val_loss': best_val_loss\n",
    "    }\n",
    "\n",
    "# Визуализация результатов для разных learning rates\n",
    "plt.figure(figsize=(12, 6))\n",
    "for lr in learning_rates:\n",
    "    plt.plot(results[lr]['train_losses'], label=f'Train (lr={lr})')\n",
    "    plt.plot(results[lr]['val_losses'], label=f'Val (lr={lr})')\n",
    "plt.xlabel('Epoch')\n",
    "plt.ylabel('Loss')\n",
    "plt.title('Training and Validation Loss for Different Learning Rates')\n",
    "plt.legend()\n",
    "plt.grid(True)\n",
    "plt.show()\n",
    "\n",
    "# Выбираем лучший learning rate\n",
    "best_lr = min(results.keys(), key=lambda x: results[x]['best_val_loss'])\n",
    "print(f\"\\nЛучший learning rate: {best_lr}\")\n",
    "\n",
    "# Загружаем лучшую модель\n",
    "model.load_state_dict(best_model_state)\n",
    "\n",
    "# Оцениваем модель на тестовой выборке\n",
    "y_pred, y_true = evaluate_model(model, test_loader, device)\n",
    "\n",
    "# Выводим отчет о классификации\n",
    "print(\"\\nОтчет о классификации:\")\n",
    "print(classification_report(y_true, y_pred, target_names=['Плохое качество', 'Хорошее качество']))\n",
    "\n",
    "# Сохраняем лучшую модель\n",
    "torch.save({\n",
    "    'model_state_dict': best_model_state,\n",
    "    'learning_rate': best_lr,\n",
    "    'best_val_loss': best_val_loss\n",
    "}, 'best_air_quality_model.pth')"
   ]
  },
  {
   "cell_type": "markdown",
   "id": "5c775aa3",
   "metadata": {},
   "source": [
    "## Выводы: \n",
    "\n",
    "- Получилось обучить нейронную сеть дял предсказания качества воздуха. \n"
   ]
  }
 ],
 "metadata": {
  "kernelspec": {
   "display_name": "Python 3 (ipykernel)",
   "language": "python",
   "name": "python3"
  },
  "language_info": {
   "codemirror_mode": {
    "name": "ipython",
    "version": 3
   },
   "file_extension": ".py",
   "mimetype": "text/x-python",
   "name": "python",
   "nbconvert_exporter": "python",
   "pygments_lexer": "ipython3",
   "version": "3.11.5"
  }
 },
 "nbformat": 4,
 "nbformat_minor": 5
}
